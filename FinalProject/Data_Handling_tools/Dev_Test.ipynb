{
 "cells": [
  {
   "cell_type": "code",
   "execution_count": 1,
   "metadata": {},
   "outputs": [],
   "source": [
    "import requests\n",
    "import pandas as pd"
   ]
  },
  {
   "cell_type": "code",
   "execution_count": null,
   "metadata": {},
   "outputs": [],
   "source": [
    "!pip install requests"
   ]
  },
  {
   "cell_type": "code",
   "execution_count": null,
   "metadata": {},
   "outputs": [],
   "source": [
    "###Different source references\n",
    "url_topscores = \"https://elenasport-io1.p.rapidapi.com/v2/seasons/4276/topscorers\"\n",
    "url_season = \"https://elenasport-io1.p.rapidapi.com/v2/seasons\"\n",
    "url_games = \"https://elenasport-io1.p.rapidapi.com/v2/seasons/103/fixtures\"\n",
    "url_teams = \"https://elenasport-io1.p.rapidapi.com/v2/seasons/103/teams\""
   ]
  },
  {
   "cell_type": "code",
   "execution_count": null,
   "metadata": {},
   "outputs": [],
   "source": [
    "def collect_data(url):\n",
    "    \"\"\"\n",
    "    function to collect all the produced from tha API\n",
    "    input: url (The reference to the desired data to be collected)\n",
    "    output: data table of collected sets of data.\n",
    "    \"\"\"\n",
    "    querystring = {\"page\":\"1\"}\n",
    "    headers = {\n",
    "    'x-rapidapi-host': \"elenasport-io1.p.rapidapi.com\",\n",
    "    'x-rapidapi-key': \"2f3003b82bmshf218b51e51e4a07p10877ejsn9440684836c9\"\n",
    "    }\n",
    "    i = 2\n",
    "    response = requests.request(\"GET\", url, headers=headers, params=querystring)\n",
    "    response_list = response.json()[\"data\"]\n",
    "    response_df = pd.DataFrame(response_list)\n",
    "    while response.status_code == 200 and response.json()[\"pagination\"][\"hasNextPage\"] == True:\n",
    "        querystring = {\"page\":str(i)}\n",
    "        response = requests.request(\"GET\", url, headers=headers, params=querystring)\n",
    "        try:\n",
    "            response_df = response_df.append(pd.DataFrame(response.json()[\"data\"]), ignore_index=True)\n",
    "            #print(response.json()[\"data\"])\n",
    "            print(\"page:\", i)\n",
    "            i += 1\n",
    "        except:\n",
    "            continue\n",
    "    return response_df"
   ]
  },
  {
   "cell_type": "code",
   "execution_count": null,
   "metadata": {},
   "outputs": [],
   "source": [
    "##Collect data from sources\n",
    "data_topscores = collect_data(url_topscores)\n",
    "data_season = collect_data(url_season)\n",
    "data_games = collect_data(url_games)\n",
    "data_teams = collect_data(url_teams)"
   ]
  },
  {
   "cell_type": "code",
   "execution_count": null,
   "metadata": {},
   "outputs": [],
   "source": [
    "data_topscores"
   ]
  },
  {
   "cell_type": "code",
   "execution_count": null,
   "metadata": {},
   "outputs": [],
   "source": [
    "data_season"
   ]
  },
  {
   "cell_type": "code",
   "execution_count": null,
   "metadata": {},
   "outputs": [],
   "source": [
    "data_games"
   ]
  },
  {
   "cell_type": "code",
   "execution_count": null,
   "metadata": {},
   "outputs": [],
   "source": [
    "data_teams"
   ]
  }
 ],
 "metadata": {
  "interpreter": {
   "hash": "40d3a090f54c6569ab1632332b64b2c03c39dcf918b08424e98f38b5ae0af88f"
  },
  "kernelspec": {
   "display_name": "Python 3.8.8 64-bit ('base': conda)",
   "language": "python",
   "name": "python3"
  },
  "language_info": {
   "codemirror_mode": {
    "name": "ipython",
    "version": 3
   },
   "file_extension": ".py",
   "mimetype": "text/x-python",
   "name": "python",
   "nbconvert_exporter": "python",
   "pygments_lexer": "ipython3",
   "version": "3.9.9"
  },
  "orig_nbformat": 4
 },
 "nbformat": 4,
 "nbformat_minor": 2
}
