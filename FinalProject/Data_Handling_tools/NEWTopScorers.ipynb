{
 "cells": [
  {
   "cell_type": "code",
   "execution_count": 1,
   "metadata": {},
   "outputs": [],
   "source": [
    "import requests\n",
    "import pandas as pd"
   ]
  },
  {
   "cell_type": "code",
   "execution_count": 31,
   "metadata": {},
   "outputs": [
    {
     "name": "stdout",
     "output_type": "stream",
     "text": [
      "page: 2\n",
      "page: 3\n"
     ]
    }
   ],
   "source": [
    "url = \"https://elenasport-io1.p.rapidapi.com/v2/seasons\"\n",
    "\n",
    "querystring = {\"page\":\"2\"}\n",
    "\n",
    "headers = {\n",
    "    'x-rapidapi-host': \"elenasport-io1.p.rapidapi.com\",\n",
    "    'x-rapidapi-key': \"2f3003b82bmshf218b51e51e4a07p10877ejsn9440684836c9\"\n",
    "    }\n",
    "\n",
    "response = requests.request(\"GET\", url, headers=headers, params=querystring)\n",
    "\n",
    "seasons = response_all_pages(url)"
   ]
  },
  {
   "cell_type": "code",
   "execution_count": 43,
   "metadata": {},
   "outputs": [
    {
     "name": "stdout",
     "output_type": "stream",
     "text": [
      "      id  idLeague                                  leagueName  start   end\n",
      "0   4332       177                     Copa do Nordeste - 2022   2022  2022\n",
      "1   1331        71                      World Cup - 2022 Qatar   2022  2022\n",
      "2   4331       314                       State Cup - 2021/2022   2021  2022\n",
      "3   4330       104                    Armenian Cup - 2021/2022   2021  2022\n",
      "4   4329       493                     Turkish Cup - 2021/2022   2021  2022\n",
      "5   4306       320                         Serie C - 2021/2022   2021  2022\n",
      "6   4296       175                          Copa Gaúcha - 2021   2021  2021\n",
      "7   4295       278                       Super Cup - 2021/2022   2021  2022\n",
      "8   4294       361                            Cupa - 2021/2022   2021  2022\n",
      "9   4293        86                Kategoria e Parë - 2021/2022   2021  2022\n",
      "10  4292         9                  UEFA Super Cup - 2021/2022   2021  2022\n",
      "11  4291       488                   Thai League 1 - 2021/2022   2021  2022\n",
      "12  4290       176                             Copa Rio - 2021   2021  2021\n",
      "13  4289        85             Kategoria Superiore - 2021/2022   2021  2022\n",
      "14  4288       113                    Premyer Liqa - 2021/2022   2021  2022\n",
      "15  4287         8              UEFA Europa League - 2021/2022   2021  2022\n",
      "16  4286       174                        Copa Paulista - 2021   2021  2021\n",
      "17  4285       499                   Ukrainian Cup - 2021/2022   2021  2022\n",
      "18  4284       404                       Super Cup - 2021/2022   2021  2022\n",
      "19  4283       286                    Super League - 2021/2022   2021  2022\n",
      "20  4282       319                         Serie B - 2021/2022   2021  2022\n",
      "21  4281       460  South African Premier Division - 2021/2022   2021  2022\n",
      "22  4280       419                   Cupa României - 2021/2022   2021  2022\n",
      "23  4279       189                             Cup - 2021/2022   2021  2022\n",
      "24  4278       290                   Liga Nacional - 2021/2022   2021  2022\n",
      "25  4277       192                Canadian Championship - 2021   2021  2021\n",
      "26  4276       103                  Premier League - 2021/2022   2021  2022\n",
      "27  4275       430                      Pro League - 2021/2022   2021  2022\n",
      "28  4274       350                  Premier League - 2021/2022   2021  2022\n",
      "29  4273       321                    Coppa Italia - 2021/2022   2021  2022\n",
      "30  4272       367                      KNVB Beker - 2021/2022   2021  2022\n",
      "31  4271       215                     1. Division - 2021/2022   2021  2022\n",
      "32  4270       318                         Serie A - 2021/2022   2021  2022\n",
      "33  4269       491                      TFF 1. Lig - 2021/2022   2021  2022\n",
      "34  4268       240                          FA Cup - 2021/2022   2021  2022\n",
      "35  4267       490                       Süper Lig - 2021/2022   2021  2022\n",
      "36  4266       425                             Cup - 2021/2022   2021  2022\n",
      "37  4265       347               National Division - 2021/2022   2021  2022\n",
      "38  4264       399                    Segunda Liga - 2021/2022   2021  2022\n",
      "39  4263       123                     Belgian Cup - 2021/2022   2021  2022\n",
      "40  4262       486                       Swiss Cup - 2021/2022   2021  2022\n",
      "41  4261       398                   Primeira Liga - 2021/2022   2021  2022\n",
      "42  4260       277                       DFB Pokal - 2021/2022   2021  2022\n",
      "43  4259       375                     Premiership - 2021/2022   2021  2022\n",
      "44  4258       274                         3. Liga - 2021/2022   2021  2022\n",
      "45  4257       455              Slovenian PrvaLiga - 2021/2022   2021  2022\n",
      "46  4256       354                         Liga MX - 2021/2022   2021  2022\n",
      "47  4255       146                   Campeonato Acreano - 2021   2021  2021\n",
      "48  4254       518                   Cymru Premier - 2021/2022   2021  2022\n",
      "49  4253       467                Segunda División - 2021/2022   2021  2022\n",
      "50  4252       417                          Liga I - 2021/2022   2021  2022\n",
      "51  4251       502             Arabian Gulf League - 2021/2022   2021  2022\n",
      "52  4250       394                         II Liga - 2021/2022   2021  2022\n",
      "53  4249       466                         La Liga - 2021/2022   2021  2022\n",
      "54  4248       393                          I Liga - 2021/2022   2021  2022\n",
      "55  4247       121                First Division B - 2021/2022   2021  2022\n",
      "56  4246       208                Primera División - 2021/2022   2021  2022\n",
      "57  4245       235                    Championship - 2021/2022   2021  2022\n",
      "58  4244       484                    Super League - 2021/2022   2021  2022\n",
      "59  4243       272                      Bundesliga - 2021/2022   2021  2022\n"
     ]
    }
   ],
   "source": [
    "print(seasons)"
   ]
  },
  {
   "cell_type": "code",
   "execution_count": 48,
   "metadata": {},
   "outputs": [
    {
     "name": "stdout",
     "output_type": "stream",
     "text": [
      "      id                                  leagueName\n",
      "0   4332                     Copa do Nordeste - 2022\n",
      "1   1331                      World Cup - 2022 Qatar\n",
      "2   4331                       State Cup - 2021/2022\n",
      "3   4330                    Armenian Cup - 2021/2022\n",
      "4   4329                     Turkish Cup - 2021/2022\n",
      "5   4306                         Serie C - 2021/2022\n",
      "6   4296                          Copa Gaúcha - 2021\n",
      "7   4295                       Super Cup - 2021/2022\n",
      "8   4294                            Cupa - 2021/2022\n",
      "9   4293                Kategoria e Parë - 2021/2022\n",
      "10  4292                  UEFA Super Cup - 2021/2022\n",
      "11  4291                   Thai League 1 - 2021/2022\n",
      "12  4290                             Copa Rio - 2021\n",
      "13  4289             Kategoria Superiore - 2021/2022\n",
      "14  4288                    Premyer Liqa - 2021/2022\n",
      "15  4287              UEFA Europa League - 2021/2022\n",
      "16  4286                        Copa Paulista - 2021\n",
      "17  4285                   Ukrainian Cup - 2021/2022\n",
      "18  4284                       Super Cup - 2021/2022\n",
      "19  4283                    Super League - 2021/2022\n",
      "20  4282                         Serie B - 2021/2022\n",
      "21  4281  South African Premier Division - 2021/2022\n",
      "22  4280                   Cupa României - 2021/2022\n",
      "23  4279                             Cup - 2021/2022\n",
      "24  4278                   Liga Nacional - 2021/2022\n",
      "25  4277                Canadian Championship - 2021\n",
      "26  4276                  Premier League - 2021/2022\n",
      "27  4275                      Pro League - 2021/2022\n",
      "28  4274                  Premier League - 2021/2022\n",
      "29  4273                    Coppa Italia - 2021/2022\n",
      "30  4272                      KNVB Beker - 2021/2022\n",
      "31  4271                     1. Division - 2021/2022\n",
      "32  4270                         Serie A - 2021/2022\n",
      "33  4269                      TFF 1. Lig - 2021/2022\n",
      "34  4268                          FA Cup - 2021/2022\n",
      "35  4267                       Süper Lig - 2021/2022\n",
      "36  4266                             Cup - 2021/2022\n",
      "37  4265               National Division - 2021/2022\n",
      "38  4264                    Segunda Liga - 2021/2022\n",
      "39  4263                     Belgian Cup - 2021/2022\n",
      "40  4262                       Swiss Cup - 2021/2022\n",
      "41  4261                   Primeira Liga - 2021/2022\n",
      "42  4260                       DFB Pokal - 2021/2022\n",
      "43  4259                     Premiership - 2021/2022\n",
      "44  4258                         3. Liga - 2021/2022\n",
      "45  4257              Slovenian PrvaLiga - 2021/2022\n",
      "46  4256                         Liga MX - 2021/2022\n",
      "47  4255                   Campeonato Acreano - 2021\n",
      "48  4254                   Cymru Premier - 2021/2022\n",
      "49  4253                Segunda División - 2021/2022\n",
      "50  4252                          Liga I - 2021/2022\n",
      "51  4251             Arabian Gulf League - 2021/2022\n",
      "52  4250                         II Liga - 2021/2022\n",
      "53  4249                         La Liga - 2021/2022\n",
      "54  4248                          I Liga - 2021/2022\n",
      "55  4247                First Division B - 2021/2022\n",
      "56  4246                Primera División - 2021/2022\n",
      "57  4245                    Championship - 2021/2022\n",
      "58  4244                    Super League - 2021/2022\n",
      "59  4243                      Bundesliga - 2021/2022\n"
     ]
    }
   ],
   "source": [
    "clean_seasons = seasons[[\"id\", \"leagueName\"]]\n",
    "print(clean_seasons)"
   ]
  },
  {
   "cell_type": "code",
   "execution_count": 15,
   "metadata": {},
   "outputs": [],
   "source": [
    "url = \"https://elenasport-io1.p.rapidapi.com/v2/seasons/4276/topscorers\"\n",
    "\n",
    "querystring = {\"page\":\"11\"}\n",
    "\n",
    "headers = {\n",
    "    'x-rapidapi-host': \"elenasport-io1.p.rapidapi.com\",\n",
    "    'x-rapidapi-key': \"2f3003b82bmshf218b51e51e4a07p10877ejsn9440684836c9\"\n",
    "    }"
   ]
  },
  {
   "cell_type": "code",
   "execution_count": 30,
   "metadata": {},
   "outputs": [],
   "source": [
    "def response_all_pages(url):\n",
    "    querystring = {\"page\":\"1\"}\n",
    "    i = 2\n",
    "    response = requests.request(\"GET\", url, headers=headers, params=querystring)\n",
    "    response_list = response.json()[\"data\"]\n",
    "    response_df = pd.DataFrame(response_list)\n",
    "    while response.status_code == 200 and response.json()[\"pagination\"][\"hasNextPage\"] == True:\n",
    "        querystring = {\"page\":str(i)}\n",
    "        response = requests.request(\"GET\", url, headers=headers, params=querystring)\n",
    "        try:\n",
    "            response_df = response_df.append(pd.DataFrame(response.json()[\"data\"]), ignore_index=True)\n",
    "            #print(response.json()[\"data\"])\n",
    "            print(\"page:\", i)\n",
    "            i += 1\n",
    "        except:\n",
    "            continue\n",
    "    return response_df"
   ]
  },
  {
   "cell_type": "code",
   "execution_count": 17,
   "metadata": {},
   "outputs": [
    {
     "name": "stdout",
     "output_type": "stream",
     "text": [
      "page: 2\n",
      "page: 3\n",
      "page: 4\n",
      "page: 5\n",
      "page: 6\n",
      "page: 7\n"
     ]
    }
   ],
   "source": [
    "data = response_all_pages()\n",
    "#response = requests.request(\"GET\", url, headers=headers, params=querystring)\n",
    "#print(response.json())\n",
    "#print(response.json()[\"pagination\"])\n",
    "#hasNextPage"
   ]
  },
  {
   "cell_type": "code",
   "execution_count": 18,
   "metadata": {},
   "outputs": [
    {
     "name": "stdout",
     "output_type": "stream",
     "text": [
      "     idPlayer         playerName  totalGoals  penaltiesScored  \\\n",
      "0        5184           S. Deblé           4                0   \n",
      "1       41880        Y. Otubanjo           4                0   \n",
      "2       46189            Mailson           4                1   \n",
      "3       83602             W. Eza           4                0   \n",
      "4       47747         Z. Badoyan           3                0   \n",
      "..        ...                ...         ...              ...   \n",
      "127    136247       Erik Piloyan           0                0   \n",
      "128    141126  Dimitrije Pobulić           0                0   \n",
      "129    141265     Misak Hakobyan           0                0   \n",
      "130    143665        José Embaló           0                0   \n",
      "131    145022     Temur Mustafin           0                0   \n",
      "\n",
      "     penaltiesMissed  rank  \n",
      "0                  0     1  \n",
      "1                  0     1  \n",
      "2                  0     1  \n",
      "3                  0     1  \n",
      "4                  0     5  \n",
      "..               ...   ...  \n",
      "127                0     1  \n",
      "128                0     1  \n",
      "129                0     1  \n",
      "130                0     1  \n",
      "131                0     1  \n",
      "\n",
      "[132 rows x 6 columns]\n"
     ]
    }
   ],
   "source": [
    "print(data)"
   ]
  }
 ],
 "metadata": {
  "interpreter": {
   "hash": "40d3a090f54c6569ab1632332b64b2c03c39dcf918b08424e98f38b5ae0af88f"
  },
  "kernelspec": {
   "display_name": "Python 3.8.8 64-bit ('base': conda)",
   "language": "python",
   "name": "python3"
  },
  "language_info": {
   "codemirror_mode": {
    "name": "ipython",
    "version": 3
   },
   "file_extension": ".py",
   "mimetype": "text/x-python",
   "name": "python",
   "nbconvert_exporter": "python",
   "pygments_lexer": "ipython3",
   "version": "3.8.8"
  },
  "orig_nbformat": 4
 },
 "nbformat": 4,
 "nbformat_minor": 2
}
